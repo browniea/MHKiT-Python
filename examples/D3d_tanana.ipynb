{
 "cells": [
  {
   "cell_type": "code",
   "execution_count": null,
   "id": "b0ab8c8b-dd15-4321-920c-ce473aa3b5d1",
   "metadata": {},
   "outputs": [],
   "source": [
    "from mhkit import dolfyn as dlfn\n",
    "from mhkit.dolfyn.adp import api\n",
    "from mhkit.dolfyn.rotate import api as ap\n",
    "import pandas as pd\n",
    "import numpy as np\n",
    "import matplotlib.pyplot as plt\n",
    "import scipy.io\n",
    "from numpy.fft import fft, ifft\n",
    "from datetime import datetime\n",
    "import xarray as xr\n",
    "import scipy.interpolate as interp\n",
    "import utm\n",
    "from mhkit.river.io import d3d \n",
    "from os.path import abspath, dirname, join, normpath, relpath\n",
    "import netCDF4\n",
    "plt.rcParams.update({'font.size': 15}) # Set font size of plots title and labels "
   ]
  },
  {
   "cell_type": "code",
   "execution_count": null,
   "id": "685a6116-e3a9-4ccc-b2e1-a42970054e1d",
   "metadata": {},
   "outputs": [],
   "source": [
    "ds_02 = api.read('data/river/ADCP/tanana_transects_08_10_10_0_002_10-08-10_142214.PD0')\n",
    "ds_03 = api.read('data/river/ADCP/tanana_transects_08_10_10_0_003_10-08-10_143335.PD0')\n",
    "\n",
    "ds_02_03= xr.merge([ds_02,ds_03])\n",
    "ds_02_03"
   ]
  },
  {
   "cell_type": "code",
   "execution_count": null,
   "id": "4fc475a1-29bb-40ad-b69f-249c82d93f73",
   "metadata": {},
   "outputs": [],
   "source": [
    "data=utm.from_latlon(ds_02_03.latitude_gps, ds_02_03.longitude_gps, 5, 'W')\n",
    "latitude=data[0]\n",
    "longitude=data[1]"
   ]
  },
  {
   "cell_type": "code",
   "execution_count": null,
   "id": "d523c0bc-1206-44b4-8bcd-50267630bf8c",
   "metadata": {},
   "outputs": [],
   "source": [
    "# Downloading Data\n",
    "datadir = normpath(join(relpath(join('data', 'river', 'd3d'))))\n",
    "filename= 'tanana50_map.nc'\n",
    "d3d_data = netCDF4.Dataset(join(datadir,filename)) \n",
    "\n",
    "# Printing variable and description\n",
    "for var in d3d_data.variables.keys():\n",
    "    try: \n",
    "        d3d_data[var].long_name\n",
    "    except:\n",
    "        print(f'\"{var}\"')        \n",
    "    else:\n",
    "        print(f'\"{var}\": {d3d_data[var].long_name}')"
   ]
  },
  {
   "cell_type": "code",
   "execution_count": null,
   "id": "c2328439-2f6c-4a22-8524-f3bb0e4f45dd",
   "metadata": {},
   "outputs": [],
   "source": [
    "variable= 'ucx' \n",
    "var_data_df= d3d.get_all_data_points(d3d_data, variable, time_index=4)\n",
    "print(var_data_df)\n"
   ]
  },
  {
   "cell_type": "code",
   "execution_count": null,
   "id": "1b07bcb4-3d73-4030-ba2b-881e3248255b",
   "metadata": {},
   "outputs": [],
   "source": [
    "xmin=var_data_df.x.max()\n",
    "xmax=var_data_df.x.min()\n",
    "\n",
    "ymin=var_data_df.y.max()\n",
    "ymax=var_data_df.y.min()\n",
    "\n",
    "zmin=var_data_df.waterdepth.max()\n",
    "zmax=var_data_df.waterdepth.min()"
   ]
  },
  {
   "cell_type": "code",
   "execution_count": null,
   "id": "9b2b6dbf-c730-441f-bba0-0a5b1b636b60",
   "metadata": {},
   "outputs": [],
   "source": [
    "Lat_long=open('lat_long.txt')\n",
    "lat_long=Lat_long.readlines()\n",
    "Lat= lat_long[0:579]\n",
    "Long= lat_long[581:1160]\n",
    "Lat = np.array(Lat)\n",
    "Lat=Lat.astype(float)\n",
    "Long = np.array(Long)\n",
    "Long=Long.astype(float)\n",
    "\n"
   ]
  },
  {
   "cell_type": "code",
   "execution_count": null,
   "id": "8ba60a1a-8722-48ff-9cfc-c8bec4e01e93",
   "metadata": {},
   "outputs": [],
   "source": [
    "x_lat= np.tile(Lat, 100)\n",
    "y_long= np.tile(Long, 100)\n",
    "z_samples =np.repeat( np.linspace(zmin,zmax, num=100),579)\n",
    "Point={'x': x_lat, 'y': y_long, 'waterdepth': z_samples}\n",
    "points=pd.DataFrame(Point)\n",
    "points"
   ]
  },
  {
   "cell_type": "code",
   "execution_count": null,
   "id": "f3903cea-b228-4484-8030-c7ef1709e5a0",
   "metadata": {},
   "outputs": [],
   "source": [
    "turbine_x_loc= 400993.57467338\n",
    "turbine_y_loc= 7161237.67096936\n",
    "turbine_diameter= 0.7\n",
    "N=1\n",
    "y_sample = turbine_y_loc+N*turbine_diameter\n",
    "x_samples = np.linspace(turbine_x_loc-60, turbine_x_loc+60, num=40)\n",
    "z_samples = np.linspace(zmin,zmax, num=256)\n",
    "\n",
    "variables= ['ucy']\n",
    "sample_points = d3d.create_points(x_samples, y_sample, z_samples) \n",
    "\n",
    "Var_sample= d3d.variable_interpolation(d3d_data, variables, points= points)\n",
    "\n",
    "# Creating new plot limits \n",
    "max_plot_TI=27\n",
    "min_plot_TI=0\n",
    "\n",
    "\n",
    "# Plotting \n",
    "plt.figure(figsize=(10,4.4))\n",
    "contour_plot = plt.tricontourf(\n",
    "    Var_sample.x, \n",
    "    -Var_sample.waterdepth, \n",
    "    Var_sample.ucy,\n",
    "\n",
    ")\n",
    "\n",
    "plt.xlabel('x (m)')\n",
    "plt.ylabel('Water Depth (m)')\n",
    "plt.title('Velocity in the Y direction')\n",
    "cbar= plt.colorbar(contour_plot)\n",
    "cbar.set_label('velocity [m/s]')"
   ]
  },
  {
   "cell_type": "code",
   "execution_count": null,
   "id": "50320a0e-ecdd-4b1a-b187-547d8cb0051c",
   "metadata": {},
   "outputs": [],
   "source": [
    "sample_points"
   ]
  },
  {
   "cell_type": "code",
   "execution_count": null,
   "id": "0afc9731-6474-453f-ada3-afe04d6e6470",
   "metadata": {},
   "outputs": [],
   "source": [
    "np.tile([1, 2,3,4],3)"
   ]
  },
  {
   "cell_type": "code",
   "execution_count": null,
   "id": "49d81792-2267-4f75-ab7b-ee9bc63c35bf",
   "metadata": {},
   "outputs": [],
   "source": [
    "plt.scatter(var_data_df.x,var_data_df.y,var_data_df.waterdepth)\n",
    "plt.scatter(Lat, Long)"
   ]
  },
  {
   "cell_type": "code",
   "execution_count": null,
   "id": "1d18d21e-ff12-4fde-922e-bc7f3ef0d559",
   "metadata": {},
   "outputs": [],
   "source": [
    "np.size(Lat)"
   ]
  },
  {
   "cell_type": "code",
   "execution_count": null,
   "id": "80748227-e850-47b8-8eb4-2033e5091cd6",
   "metadata": {},
   "outputs": [],
   "source": [
    "np.size(Long)"
   ]
  },
  {
   "cell_type": "code",
   "execution_count": null,
   "id": "9a553b08-6352-403c-a694-00661eafbc29",
   "metadata": {},
   "outputs": [],
   "source": []
  }
 ],
 "metadata": {
  "kernelspec": {
   "display_name": "Python 3",
   "language": "python",
   "name": "python3"
  },
  "language_info": {
   "codemirror_mode": {
    "name": "ipython",
    "version": 3
   },
   "file_extension": ".py",
   "mimetype": "text/x-python",
   "name": "python",
   "nbconvert_exporter": "python",
   "pygments_lexer": "ipython3",
   "version": "3.8.8"
  }
 },
 "nbformat": 4,
 "nbformat_minor": 5
}
